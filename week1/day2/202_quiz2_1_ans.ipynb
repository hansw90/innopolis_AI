{
  "nbformat": 4,
  "nbformat_minor": 0,
  "metadata": {
    "kernelspec": {
      "display_name": "Python 3",
      "language": "python",
      "name": "python3"
    },
    "language_info": {
      "codemirror_mode": {
        "name": "ipython",
        "version": 3
      },
      "file_extension": ".py",
      "mimetype": "text/x-python",
      "name": "python",
      "nbconvert_exporter": "python",
      "pygments_lexer": "ipython3",
      "version": "3.7.3"
    },
    "colab": {
      "name": "202_quiz2-1_ans.ipynb",
      "provenance": [],
      "collapsed_sections": [],
      "toc_visible": true
    }
  },
  "cells": [
    {
      "cell_type": "markdown",
      "metadata": {
        "id": "e2041oKB_0g9",
        "colab_type": "text"
      },
      "source": [
        "### 구글 드라이브 마운트"
      ]
    },
    {
      "cell_type": "code",
      "metadata": {
        "id": "ypIUqXXf_3gC",
        "colab_type": "code",
        "colab": {
          "base_uri": "https://localhost:8080/",
          "height": 122
        },
        "outputId": "1d45588a-6609-4611-8b3f-8ab68d60906c"
      },
      "source": [
        "from google.colab import drive\n",
        "drive.mount('/content/drive')"
      ],
      "execution_count": 1,
      "outputs": [
        {
          "output_type": "stream",
          "text": [
            "Go to this URL in a browser: https://accounts.google.com/o/oauth2/auth?client_id=947318989803-6bn6qk8qdgf4n4g3pfee6491hc0brc4i.apps.googleusercontent.com&redirect_uri=urn%3aietf%3awg%3aoauth%3a2.0%3aoob&response_type=code&scope=email%20https%3a%2f%2fwww.googleapis.com%2fauth%2fdocs.test%20https%3a%2f%2fwww.googleapis.com%2fauth%2fdrive%20https%3a%2f%2fwww.googleapis.com%2fauth%2fdrive.photos.readonly%20https%3a%2f%2fwww.googleapis.com%2fauth%2fpeopleapi.readonly\n",
            "\n",
            "Enter your authorization code:\n",
            "··········\n",
            "Mounted at /content/drive\n"
          ],
          "name": "stdout"
        }
      ]
    },
    {
      "cell_type": "markdown",
      "metadata": {
        "id": "G6szGAJF_xUh",
        "colab_type": "text"
      },
      "source": [
        "### 문제 1\n",
        "‘students.txt’ 파일을 읽어서 딕셔너리로 학생들의 정보를 저장하라.  \n",
        "해당 파일은 이름, 국어점수, 영어점수, 수학점수 순으로 되어있으며, 각 컬럼의 구분자는 tab(\\t)으로 이루어져있다.  \n",
        "이름을 key로 하고, 국어점수, 영어점수, 수학점수를 순서대로 담은 리스트를 value로 하는 딕셔너리로 저장하라."
      ]
    },
    {
      "cell_type": "markdown",
      "metadata": {
        "id": "Qh3X7ACm__mR",
        "colab_type": "text"
      },
      "source": [
        "+ read 이용"
      ]
    },
    {
      "cell_type": "code",
      "metadata": {
        "id": "qR2a3lo3_xUp",
        "colab_type": "code",
        "colab": {}
      },
      "source": [
        "students = {}"
      ],
      "execution_count": 0,
      "outputs": []
    },
    {
      "cell_type": "code",
      "metadata": {
        "id": "6JSLcvWm_xVA",
        "colab_type": "code",
        "outputId": "efdc5232-4d9c-47bd-b515-276c1f31de2a",
        "colab": {
          "base_uri": "https://localhost:8080/",
          "height": 119
        }
      },
      "source": [
        "with open('./drive/My Drive/Colab Notebooks/python/toy_data/students.txt', 'r') as f :\n",
        "    data = f.read()\n",
        "    print(data)\n",
        "    lines = data.split('\\n')\n",
        "    print(lines)\n",
        "    for stu in lines :\n",
        "        s = stu.split('\\t')\n",
        "        students[s[0]] = s[1:] "
      ],
      "execution_count": 5,
      "outputs": [
        {
          "output_type": "stream",
          "text": [
            "홍길동\t50\t70\t65\n",
            "홍계월\t80\t90\t100\n",
            "뽀로로\t83\t92\t86\n",
            "펭수\t95\t100\t97\n",
            "뚝딱이\t77\t72\t87\n",
            "['홍길동\\t50\\t70\\t65', '홍계월\\t80\\t90\\t100', '뽀로로\\t83\\t92\\t86', '펭수\\t95\\t100\\t97', '뚝딱이\\t77\\t72\\t87']\n"
          ],
          "name": "stdout"
        }
      ]
    },
    {
      "cell_type": "code",
      "metadata": {
        "id": "SQ7eCmXz_xVP",
        "colab_type": "code",
        "outputId": "4fd694b1-a46b-47e2-a7e1-2d958c923e9b",
        "colab": {}
      },
      "source": [
        "students"
      ],
      "execution_count": 0,
      "outputs": [
        {
          "output_type": "execute_result",
          "data": {
            "text/plain": [
              "{'홍길동': ['50', '70', '65'],\n",
              " '홍계월': ['80', '90', '100'],\n",
              " '뽀로로': ['83', '92', '86'],\n",
              " '펭수': ['95', '100', '97'],\n",
              " '뚝딱이': ['77', '72', '87']}"
            ]
          },
          "metadata": {
            "tags": []
          },
          "execution_count": 7
        }
      ]
    },
    {
      "cell_type": "markdown",
      "metadata": {
        "id": "xnYrsPuTAGDK",
        "colab_type": "text"
      },
      "source": [
        "+ readlines 이용"
      ]
    },
    {
      "cell_type": "code",
      "metadata": {
        "id": "ris5j7Vt_xVc",
        "colab_type": "code",
        "colab": {}
      },
      "source": [
        "students2 = {}"
      ],
      "execution_count": 0,
      "outputs": []
    },
    {
      "cell_type": "code",
      "metadata": {
        "id": "ZLbqFhZo_xVl",
        "colab_type": "code",
        "outputId": "da7af174-ccc3-46fe-cd07-9f8c9c454eb3",
        "colab": {}
      },
      "source": [
        "with open('./drive/Mydrive/Colab Notebooks/python/toy_data/students.txt', 'r') as f :\n",
        "    data = f.readlines()\n",
        "    for d in data :\n",
        "        line = d.split('\\t')\n",
        "        line[3] = line[3].split('\\n')[0]\n",
        "        students2[line[0]] = line[1:]\n",
        "\n",
        "print(students2)"
      ],
      "execution_count": 0,
      "outputs": [
        {
          "output_type": "stream",
          "text": [
            "{'홍길동': ['50', '70', '65'], '홍계월': ['80', '90', '100'], '뽀로로': ['83', '92', '86'], '펭수': ['95', '100', '97'], '뚝딱이': ['77', '72', '87']}\n"
          ],
          "name": "stdout"
        }
      ]
    },
    {
      "cell_type": "markdown",
      "metadata": {
        "id": "B1Gj2xLK_xVt",
        "colab_type": "text"
      },
      "source": [
        "### 문제 2\n",
        "저장한 딕셔너리를 토대로 학생들의 평균을 구하라.  \n",
        "전체 학생의 국어, 영어, 수학 점수의 평균을 구해서 각각 kor, eng, math라는 변수에 저장하고, 소수점 첫째자리까지 출력하라."
      ]
    },
    {
      "cell_type": "code",
      "metadata": {
        "id": "K0IZPscr_xVv",
        "colab_type": "code",
        "colab": {}
      },
      "source": [
        "kor = 0\n",
        "eng = 0\n",
        "math = 0"
      ],
      "execution_count": 0,
      "outputs": []
    },
    {
      "cell_type": "code",
      "metadata": {
        "id": "9bC2hYsv_xV2",
        "colab_type": "code",
        "colab": {}
      },
      "source": [
        "for v in students.values():\n",
        "    kor += int(v[0])\n",
        "    eng += int(v[1])\n",
        "    math += int(v[2])\n",
        "\n",
        "kor /= len(students)\n",
        "eng /= len(students)\n",
        "math /= len(students)"
      ],
      "execution_count": 0,
      "outputs": []
    },
    {
      "cell_type": "code",
      "metadata": {
        "id": "Lj7p41xe_xV9",
        "colab_type": "code",
        "outputId": "cdfd81fa-c1e3-491e-b753-4624f3212d2d",
        "colab": {}
      },
      "source": [
        "print('학생들의 평균은 아래와 같습니다.')\n",
        "print('국어 : %0.1f' %kor)\n",
        "print('영어 : %0.1f' %eng)\n",
        "print('수학 : %0.1f' %math)"
      ],
      "execution_count": 0,
      "outputs": [
        {
          "output_type": "stream",
          "text": [
            "학생들의 평균은 아래와 같습니다.\n",
            "국어 : 77.0\n",
            "영어 : 84.8\n",
            "수학 : 87.0\n"
          ],
          "name": "stdout"
        }
      ]
    },
    {
      "cell_type": "markdown",
      "metadata": {
        "id": "EW-eJ8FG_xWC",
        "colab_type": "text"
      },
      "source": [
        "### 문제 3\n",
        "\n",
        "학생들 개개인의 평균을 구하는 함수를 작성하라.  \n",
        "이름을 넣으면 국어, 영어, 수학 3과목의 평균을 계산하여 반환하는 함수를 작성하라."
      ]
    },
    {
      "cell_type": "code",
      "metadata": {
        "id": "ahL3Dr7__xWH",
        "colab_type": "code",
        "colab": {}
      },
      "source": [
        "def cal_average(name) :\n",
        "    scores = students[name]\n",
        "    avg = 0\n",
        "    for s in scores :\n",
        "        avg += int(s)\n",
        "    return avg / 3"
      ],
      "execution_count": 0,
      "outputs": []
    },
    {
      "cell_type": "code",
      "metadata": {
        "id": "XzPoiXHC_xWQ",
        "colab_type": "code",
        "outputId": "b8714d0e-389f-4e1e-f9f4-8529938652d1",
        "colab": {}
      },
      "source": [
        "cal_average('펭수')"
      ],
      "execution_count": 0,
      "outputs": [
        {
          "output_type": "execute_result",
          "data": {
            "text/plain": [
              "97.33333333333333"
            ]
          },
          "metadata": {
            "tags": []
          },
          "execution_count": 11
        }
      ]
    },
    {
      "cell_type": "code",
      "metadata": {
        "id": "iYjPI-sO_xWV",
        "colab_type": "code",
        "colab": {}
      },
      "source": [
        ""
      ],
      "execution_count": 0,
      "outputs": []
    },
    {
      "cell_type": "code",
      "metadata": {
        "id": "LdKjPjkE_y_q",
        "colab_type": "code",
        "colab": {}
      },
      "source": [
        ""
      ],
      "execution_count": 0,
      "outputs": []
    }
  ]
}